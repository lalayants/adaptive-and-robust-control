{
 "cells": [
  {
   "cell_type": "code",
   "execution_count": 8,
   "metadata": {
    "collapsed": true,
    "ExecuteTime": {
     "end_time": "2024-09-06T09:38:55.777049400Z",
     "start_time": "2024-09-06T09:38:55.550060300Z"
    }
   },
   "outputs": [],
   "source": [
    "import numpy as np\n",
    "import control\n",
    "import matplotlib.pyplot as plt\n",
    "from scipy.integrate import solve_ivp, odeint\n",
    "import os\n",
    "\n",
    "SAVE_PATH = 'report/figs/'\n",
    "if not os.path.exists(SAVE_PATH):\n",
    "    os.makedirs(SAVE_PATH)\n",
    "plt.rcParams['figure.figsize'] = [4, 4]"
   ]
  },
  {
   "cell_type": "markdown",
   "source": [
    "# Задание 1"
   ],
   "metadata": {
    "collapsed": false
   }
  },
  {
   "cell_type": "code",
   "execution_count": 9,
   "outputs": [],
   "source": [
    "gamma = 0.25\n",
    "x_0 = 1\n",
    "theta_hat_0 = 1\n",
    "g_t = lambda t: 0\n",
    "\n",
    "theta = 8\n",
    "lambda_ = 2"
   ],
   "metadata": {
    "collapsed": false,
    "ExecuteTime": {
     "end_time": "2024-09-06T09:38:55.799063500Z",
     "start_time": "2024-09-06T09:38:55.589220300Z"
    }
   }
  },
  {
   "cell_type": "code",
   "execution_count": 10,
   "outputs": [],
   "source": [
    "delta_t = lambda t: (1 + t)**(-1/8)*(1 - theta(1 + t)**(-1/4) - 3/8*(1 + t)**(-5/4))"
   ],
   "metadata": {
    "collapsed": false,
    "ExecuteTime": {
     "end_time": "2024-09-06T09:38:55.819059100Z",
     "start_time": "2024-09-06T09:38:55.622722100Z"
    }
   }
  },
  {
   "cell_type": "code",
   "execution_count": 11,
   "outputs": [],
   "source": [
    "t_span = [0, 9]"
   ],
   "metadata": {
    "collapsed": false,
    "ExecuteTime": {
     "end_time": "2024-09-06T09:38:55.822048700Z",
     "start_time": "2024-09-06T09:38:55.650062Z"
    }
   }
  },
  {
   "cell_type": "code",
   "execution_count": 12,
   "outputs": [],
   "source": [
    "def d_xm(t, x_m, lambda_, g_t):\n",
    "    return - lambda_ * x_m + lambda_ * g_t(t)\n",
    "\n",
    "def u_func(t, x, theta, g_t, lambda_):\n",
    "    return - theta * x - lambda_ * x + lambda_ * g_t(t)\n",
    "\n",
    "def d_x(t, x, lambda_, g_t, theta, theta_hat):\n",
    "    return theta * x + u_func(t, x, theta_hat, g_t, lambda_)\n",
    "\n",
    "def d_theta_hat(x, epsilon, gamma):\n",
    "    return -gamma * epsilon * x"
   ],
   "metadata": {
    "collapsed": false,
    "ExecuteTime": {
     "end_time": "2024-09-06T09:38:55.823060100Z",
     "start_time": "2024-09-06T09:38:55.690249100Z"
    }
   }
  },
  {
   "cell_type": "code",
   "execution_count": 13,
   "outputs": [],
   "source": [
    "def system(t, y, lambda_, g_t, gamma, theta):\n",
    "    x_m, x, theta_hat = y\n",
    "    return (\n",
    "        d_xm(t, x_m, lambda_, g_t),\n",
    "        d_x(t, x, lambda_, g_t, theta, theta_hat),\n",
    "        d_theta_hat(x, x_m - x, gamma)\n",
    "    )"
   ],
   "metadata": {
    "collapsed": false,
    "ExecuteTime": {
     "end_time": "2024-09-06T09:38:55.825128700Z",
     "start_time": "2024-09-06T09:38:55.709059800Z"
    }
   }
  },
  {
   "cell_type": "code",
   "execution_count": 14,
   "outputs": [
    {
     "data": {
      "text/plain": "Text(0.5, 1.0, '$\\\\tilde \\\\theta(t) = \\\\theta(t) - \\\\hat \\\\theta(t)$')"
     },
     "execution_count": 14,
     "metadata": {},
     "output_type": "execute_result"
    },
    {
     "data": {
      "text/plain": "<Figure size 400x400 with 1 Axes>",
      "image/png": "[encoded data removed]"
     },
     "metadata": {},
     "output_type": "display_data"
    }
   ],
   "source": [
    "sol_1 = solve_ivp(system, t_span=t_span, t_eval=np.linspace(*t_span, 1000), y0=np.array([1, 0, 1]).T, args=(lambda_, g_t, gamma, theta))\n",
    "\n",
    "xm, x, theta_hat = sol_1.y\n",
    "t = sol_1.t\n",
    "\n",
    "u = u_func(t, x, theta, g_t, lambda_)\n",
    "plt.plot(sol_1.t, sol_1.y[2] - theta, label=f'$\\gamma = {gamma}$')\n",
    "\n",
    "plt.grid()\n",
    "plt.legend()\n",
    "plt.xlabel('t, c')\n",
    "plt.title('$\\\\tilde \\\\theta(t) = \\\\theta(t) - \\\\hat \\\\theta(t)$')"
   ],
   "metadata": {
    "collapsed": false,
    "ExecuteTime": {
     "end_time": "2024-09-06T09:38:57.126044300Z",
     "start_time": "2024-09-06T09:38:55.747059500Z"
    }
   }
  },
  {
   "cell_type": "markdown",
   "source": [
    "# Задание 2"
   ],
   "metadata": {
    "collapsed": false
   }
  },
  {
   "cell_type": "code",
   "execution_count": 14,
   "outputs": [],
   "source": [],
   "metadata": {
    "collapsed": false,
    "ExecuteTime": {
     "end_time": "2024-09-06T09:38:57.127833Z",
     "start_time": "2024-09-06T09:38:57.112057Z"
    }
   }
  },
  {
   "cell_type": "markdown",
   "source": [
    "# Задание 3"
   ],
   "metadata": {
    "collapsed": false
   }
  },
  {
   "cell_type": "code",
   "execution_count": 14,
   "outputs": [],
   "source": [],
   "metadata": {
    "collapsed": false,
    "ExecuteTime": {
     "end_time": "2024-09-06T09:38:57.370130700Z",
     "start_time": "2024-09-06T09:38:57.130054700Z"
    }
   }
  }
 ],
 "metadata": {
  "kernelspec": {
   "display_name": "Python 3",
   "language": "python",
   "name": "python3"
  },
  "language_info": {
   "codemirror_mode": {
    "name": "ipython",
    "version": 2
   },
   "file_extension": ".py",
   "mimetype": "text/x-python",
   "name": "python",
   "nbconvert_exporter": "python",
   "pygments_lexer": "ipython2",
   "version": "2.7.6"
  }
 },
 "nbformat": 4,
 "nbformat_minor": 0
}
