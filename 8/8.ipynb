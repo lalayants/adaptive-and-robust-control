{
 "cells": [
  {
   "cell_type": "code",
   "execution_count": 10,
   "metadata": {
    "ExecuteTime": {
     "end_time": "2024-09-07T21:27:57.660820300Z",
     "start_time": "2024-09-07T21:27:56.710821200Z"
    },
    "collapsed": true
   },
   "outputs": [],
   "source": [
    "import numpy as np\n",
    "import matplotlib.pyplot as plt\n",
    "\n",
    "import os\n",
    "\n",
    "SAVE_PATH = 'report/figs/'\n",
    "if not os.path.exists(SAVE_PATH):\n",
    "    os.makedirs(SAVE_PATH)\n",
    "plt.rcParams['figure.figsize'] = [4, 4]"
   ]
  },
  {
   "cell_type": "code",
   "execution_count": 11,
   "metadata": {},
   "outputs": [],
   "source": [
    "gammas = [0.1, 100, 10000]\n",
    "plots_vars = ['u', 'epsilon']"
   ]
  },
  {
   "cell_type": "code",
   "execution_count": 12,
   "metadata": {},
   "outputs": [],
   "source": [
    "for plots_var in plots_vars:\n",
    "    for gamma in gammas:\n",
    "        data = np.genfromtxt(f'0_{gamma}_{plots_var}.csv', delimiter=',')\n",
    "        time = np.genfromtxt(f'0_{gamma}_time.csv', delimiter=',')\n",
    "        plt.plot(time, data, label=f'$\\\\gamma = {gamma}$')\n",
    "    plt.legend()\n",
    "    plt.xlabel('t, c')\n",
    "    if plots_var == \"u\":\n",
    "        plt.title(f\"${plots_var}= {plots_var}(t)$\")\n",
    "    else:\n",
    "        plt.title(f\"$\\\\{plots_var}= \\\\{plots_var}(t)$\")\n",
    "    plt.savefig(SAVE_PATH + f'0_{plots_var}.png')\n",
    "    plt.close()\n"
   ]
  },
  {
   "cell_type": "code",
   "execution_count": 13,
   "metadata": {},
   "outputs": [],
   "source": [
    "for i in range(4):\n",
    "    for gamma in gammas:\n",
    "        data = np.genfromtxt(f'0_{gamma}_psi_p_hat.csv', delimiter=',')\n",
    "        time = np.genfromtxt(f'0_{gamma}_time.csv', delimiter=',')\n",
    "        plt.plot(time, data[i, ], label=f'$\\\\gamma = {gamma}$')\n",
    "    plt.legend()\n",
    "    plt.xlabel('t, c')\n",
    "    plt.title(\"$\\\\hat{\\\\psi_{p_\" + str(i) + \"}} = \\\\hat{\\\\psi}(t)$\")\n",
    "    plt.savefig(SAVE_PATH + f'0_psi_p_hat_{i}.png')\n",
    "    plt.close()"
   ]
  },
  {
   "cell_type": "markdown",
   "metadata": {},
   "source": [
    "2"
   ]
  },
  {
   "cell_type": "code",
   "execution_count": 14,
   "metadata": {},
   "outputs": [
    {
     "name": "stderr",
     "output_type": "stream",
     "text": [
      "/var/folders/dj/d737lw992sd7ff5_jq6k5c240000gn/T/ipykernel_68370/1802331969.py:12: UserWarning: Creating legend with loc=\"best\" can be slow with large amounts of data.\n",
      "  plt.savefig(SAVE_PATH + f'1_{plots_var}.png')\n"
     ]
    }
   ],
   "source": [
    "for plots_var in plots_vars:\n",
    "    for gamma in gammas:\n",
    "        data = np.genfromtxt(f'1_{gamma}_{plots_var}.csv', delimiter=',')\n",
    "        time = np.genfromtxt(f'1_{gamma}_time.csv', delimiter=',')\n",
    "        plt.plot(time, data, label=f'$\\\\gamma = {gamma}$')\n",
    "    plt.legend()\n",
    "    plt.xlabel('t, c')\n",
    "    if plots_var == \"u\":\n",
    "        plt.title(f\"${plots_var}= {plots_var}(t)$\")\n",
    "    else:\n",
    "        plt.title(f\"$\\\\{plots_var}= \\\\{plots_var}(t)$\")\n",
    "    plt.savefig(SAVE_PATH + f'1_{plots_var}.png')\n",
    "    plt.close()"
   ]
  },
  {
   "cell_type": "code",
   "execution_count": 15,
   "metadata": {},
   "outputs": [],
   "source": [
    "for i in range(4):\n",
    "    for gamma in gammas:\n",
    "        data = np.genfromtxt(f'1_{gamma}_psi_p_hat.csv', delimiter=',')\n",
    "        time = np.genfromtxt(f'1_{gamma}_time.csv', delimiter=',')\n",
    "        plt.plot(time, data[i, ], label=f'$\\\\gamma = {gamma}$')\n",
    "    plt.legend()\n",
    "    plt.xlabel('t, c')\n",
    "    plt.title(\"$\\\\hat{\\\\psi_{p_\" + str(i) + \"}} = \\\\hat{\\\\psi}(t)$\")\n",
    "    plt.savefig(SAVE_PATH + f'1_psi_p_hat_{i}.png')\n",
    "    plt.close()"
   ]
  },
  {
   "cell_type": "code",
   "execution_count": null,
   "metadata": {},
   "outputs": [],
   "source": []
  }
 ],
 "metadata": {
  "kernelspec": {
   "display_name": "Python 3",
   "language": "python",
   "name": "python3"
  },
  "language_info": {
   "codemirror_mode": {
    "name": "ipython",
    "version": 3
   },
   "file_extension": ".py",
   "mimetype": "text/x-python",
   "name": "python",
   "nbconvert_exporter": "python",
   "pygments_lexer": "ipython3",
   "version": "3.10.9"
  }
 },
 "nbformat": 4,
 "nbformat_minor": 0
}
